{
 "metadata": {
  "name": "",
  "signature": "sha256:cb10537107e0798adb34f5f597e9c602694984eb48c7f7e750b5ff98bee2a803"
 },
 "nbformat": 3,
 "nbformat_minor": 0,
 "worksheets": [
  {
   "cells": [
    {
     "cell_type": "code",
     "collapsed": false,
     "input": [
      "%matplotlib inline"
     ],
     "language": "python",
     "metadata": {},
     "outputs": [],
     "prompt_number": 1
    },
    {
     "cell_type": "code",
     "collapsed": false,
     "input": [
      "import sys\n",
      "\n",
      "import numpy as np\n",
      "import matplotlib.pyplot as plt\n",
      "\n",
      "import os\n",
      "os.environ['THEANO_FLAGS']='floatX=float32,device=gpu,nvcc.fastmath=True'\n",
      "\n",
      "import theano\n",
      "import theano.tensor as T\n",
      "tf = theano.config.floatX\n",
      "\n",
      "from math import sqrt\n",
      "from scipy import io\n",
      "from sklearn.metrics import roc_auc_score, average_precision_score"
     ],
     "language": "python",
     "metadata": {},
     "outputs": [
      {
       "output_type": "stream",
       "stream": "stderr",
       "text": [
        "Using gpu device 0: GRID K520\n"
       ]
      }
     ],
     "prompt_number": 2
    },
    {
     "cell_type": "heading",
     "level": 1,
     "metadata": {},
     "source": [
      "Load data"
     ]
    },
    {
     "cell_type": "code",
     "collapsed": false,
     "input": [
      "DATA_DIR = '/dataeast/dawen/'"
     ],
     "language": "python",
     "metadata": {},
     "outputs": [],
     "prompt_number": 3
    },
    {
     "cell_type": "code",
     "collapsed": false,
     "input": [
      "K = 1024"
     ],
     "language": "python",
     "metadata": {},
     "outputs": [],
     "prompt_number": 4
    },
    {
     "cell_type": "code",
     "collapsed": false,
     "input": [
      "X_train = np.load(os.path.join(DATA_DIR, 'X_train_K%d.npy' % K))\n",
      "X_test = np.load(os.path.join(DATA_DIR, 'X_test_K%d.npy' % K))\n",
      "y_train = np.load(os.path.join(DATA_DIR, 'y_train.npy'))\n",
      "y_test = np.load(os.path.join(DATA_DIR, 'y_test.npy'))"
     ],
     "language": "python",
     "metadata": {},
     "outputs": [],
     "prompt_number": 5
    },
    {
     "cell_type": "code",
     "collapsed": false,
     "input": [
      "X_train = X_train / np.sum(X_train, axis=1, keepdims=True).astype(tf)\n",
      "X_test = X_test / np.sum(X_test, axis=1, keepdims=True).astype(tf)"
     ],
     "language": "python",
     "metadata": {},
     "outputs": [],
     "prompt_number": 6
    },
    {
     "cell_type": "heading",
     "level": 1,
     "metadata": {},
     "source": [
      "Define the (single-layered) network"
     ]
    },
    {
     "cell_type": "code",
     "collapsed": false,
     "input": [
      "rng = np.random.RandomState(seed=98765)"
     ],
     "language": "python",
     "metadata": {},
     "outputs": [],
     "prompt_number": 7
    },
    {
     "cell_type": "code",
     "collapsed": false,
     "input": [
      "n_samples, n_feats = X_train.shape\n",
      "n_tags = y_train.shape[1]\n",
      "\n",
      "batch_size = 100\n",
      "\n",
      "X_batch = theano.shared(np.zeros((batch_size, n_feats), dtype=tf), 'X_batch', borrow=True)\n",
      "y_batch = theano.shared(np.zeros((batch_size, n_tags), dtype=np.int32), 'y_batch', borrow=True)"
     ],
     "language": "python",
     "metadata": {},
     "outputs": [],
     "prompt_number": 8
    },
    {
     "cell_type": "code",
     "collapsed": false,
     "input": [
      "class LogisticRegressionLayer:\n",
      "    def __init__(self, rng, input, n_in, n_out):\n",
      "        # input and params\n",
      "        self.input = input\n",
      "        \n",
      "        self.W = theano.shared(0.01 * rng.randn(n_in, n_out).astype(tf), name='W', borrow=True)\n",
      "        self.b = theano.shared(0.01 * rng.randn(n_out).astype(tf), name='b', borrow=True)\n",
      "        \n",
      "        self.params = [self.W, self.b]\n",
      "\n",
      "        # AdaGrad \n",
      "        self.hist_grad_W = theano.shared(np.zeros((n_in, n_out), dtype=tf), name='hist_grad_W', borrow=True)\n",
      "        self.hist_grad_b = theano.shared(np.zeros(n_out, dtype=tf), name='hist_grad_b', borrow=True)\n",
      "        \n",
      "        self.hist_grads = [self.hist_grad_W, self.hist_grad_b]\n",
      "        \n",
      "        # output\n",
      "        self.output = T.nnet.softmax(T.dot(self.input, self.W) + self.b)\n",
      "        self.L2_sq = T.sum(T.sqr(self.W)) + T.sum(T.sqr(self.b))\n",
      "        \n",
      "    def log_likeli(self, y):\n",
      "        return T.mean(y * T.log(self.output) + (1 - y) * T.log(1 - self.output))   \n",
      "    \n",
      "    def set_params(self, W, b):\n",
      "        self.W.set_value(W.astype(tf))\n",
      "        self.b.set_value(b.astype(tf))"
     ],
     "language": "python",
     "metadata": {},
     "outputs": [],
     "prompt_number": 9
    },
    {
     "cell_type": "code",
     "collapsed": false,
     "input": [
      "lam = T.scalar(name='lambda')\n",
      "\n",
      "logistic_layer = LogisticRegressionLayer(rng, X_batch, n_feats, n_tags)\n",
      "params = logistic_layer.params\n",
      "hist_grads = logistic_layer.hist_grads"
     ],
     "language": "python",
     "metadata": {},
     "outputs": [],
     "prompt_number": 10
    },
    {
     "cell_type": "code",
     "collapsed": false,
     "input": [
      "cost = T.neg(logistic_layer.log_likeli(y_batch)) + lam * logistic_layer.L2_sq\n",
      "grads = T.grad(cost, params)"
     ],
     "language": "python",
     "metadata": {},
     "outputs": [],
     "prompt_number": 11
    },
    {
     "cell_type": "code",
     "collapsed": false,
     "input": [
      "eta = T.scalar(name='eta')\n",
      "  \n",
      "eps = 1e-8\n",
      "\n",
      "updates = []\n",
      "for param_i, grad_i, hist_grad_i in zip(params, grads, hist_grads):\n",
      "    new_hist_grad_i = hist_grad_i + T.sqr(grad_i)\n",
      "    updates.append((hist_grad_i, new_hist_grad_i))\n",
      "    updates.append((param_i, param_i - eta / (eps + T.sqrt(new_hist_grad_i)) * grad_i))\n",
      "    \n",
      "update_f = theano.function(inputs=[eta, lam], outputs=[logistic_layer.output, cost], updates=updates)"
     ],
     "language": "python",
     "metadata": {},
     "outputs": [],
     "prompt_number": 12
    },
    {
     "cell_type": "code",
     "collapsed": false,
     "input": [
      "def predict(X, W, b, y):\n",
      "    pred = 1. / (1 + np.exp(-(X.dot(W.get_value()) + b.get_value())))\n",
      "    cost = -np.mean(y * np.log(pred) + (1 - y) * np.log(1 - pred)) + lam * (np.sum(W.get_value()**2) + np.sum(b.get_value()**2))\n",
      "    return cost, pred"
     ],
     "language": "python",
     "metadata": {},
     "outputs": [],
     "prompt_number": 13
    },
    {
     "cell_type": "code",
     "collapsed": false,
     "input": [
      "cost_train = []\n",
      "cost_test = []\n",
      "acc_train = []\n",
      "acc_test = []\n",
      "\n",
      "logistic_layer.set_params(0.01 * rng.randn(n_feats, n_tags), 0.01 * rng.randn(n_tags))\n",
      "if np.any(hist_grads[0].get_value()):\n",
      "    hist_grads[0].set_value(np.zeros((n_feats, n_tags)).astype(tf))\n",
      "    hist_grads[1].set_value(np.zeros(n_tags).astype(tf))"
     ],
     "language": "python",
     "metadata": {},
     "outputs": [],
     "prompt_number": 14
    },
    {
     "cell_type": "code",
     "collapsed": false,
     "input": [
      "eta = .5\n",
      "lam = 0"
     ],
     "language": "python",
     "metadata": {},
     "outputs": [],
     "prompt_number": 15
    },
    {
     "cell_type": "code",
     "collapsed": false,
     "input": [
      "nepochs = 30\n",
      "print 'epoch\\tcost.train\\tcost.test\\ttrain.acc\\ttest.acc'\n",
      "sys.stdout.flush()\n",
      "\n",
      "for epoch in xrange(nepochs):\n",
      "    # Execute stochastic gradient updates\n",
      "    for i in xrange(0, n_samples, batch_size):\n",
      "        inds = np.arange(i, min(i + batch_size, n_samples), dtype=int)\n",
      "        X_batch.set_value(X_train[inds].astype(tf))\n",
      "        y_batch.set_value(y_train[inds].astype(np.int32))\n",
      "        update_f(eta, lam)\n",
      "    cost, pred_train = predict(X_train, logistic_layer.W, logistic_layer.b, y_train)\n",
      "    cost_train.append(cost)\n",
      "    acc_train.append(np.mean((pred_train > .5) == y_train))\n",
      "    \n",
      "    cost, pred_test = predict(X_test, logistic_layer.W, logistic_layer.b, y_test)\n",
      "    cost_test.append(cost)\n",
      "    acc_test.append(np.mean((pred_test > .5) == y_test))\n",
      "            \n",
      "    print('%d\\t%.3e\\t%.3e\\t%.3e\\t%.3e' % (epoch, cost_train[-1], cost_test[-1], acc_train[-1], acc_test[-1]))\n",
      "    sys.stdout.flush()"
     ],
     "language": "python",
     "metadata": {},
     "outputs": [
      {
       "output_type": "stream",
       "stream": "stdout",
       "text": [
        "epoch\tcost.train\tcost.test\ttrain.acc\ttest.acc\n"
       ]
      },
      {
       "output_type": "stream",
       "stream": "stdout",
       "text": [
        "0\t4.825e-02\t1.367e-01\t9.847e-01\t9.569e-01\n"
       ]
      },
      {
       "output_type": "stream",
       "stream": "stdout",
       "text": [
        "1\t4.712e-02\t1.355e-01\t9.851e-01\t9.568e-01\n"
       ]
      },
      {
       "output_type": "stream",
       "stream": "stdout",
       "text": [
        "2\t4.650e-02\t1.350e-01\t9.853e-01\t9.568e-01\n"
       ]
      },
      {
       "output_type": "stream",
       "stream": "stdout",
       "text": [
        "3\t4.606e-02\t1.347e-01\t9.854e-01\t9.567e-01\n"
       ]
      },
      {
       "output_type": "stream",
       "stream": "stdout",
       "text": [
        "4\t4.573e-02\t1.346e-01\t9.855e-01\t9.567e-01\n"
       ]
      },
      {
       "output_type": "stream",
       "stream": "stdout",
       "text": [
        "5\t4.546e-02\t1.345e-01\t9.856e-01\t9.567e-01\n"
       ]
      },
      {
       "output_type": "stream",
       "stream": "stdout",
       "text": [
        "6\t4.523e-02\t1.344e-01\t9.857e-01\t9.566e-01\n"
       ]
      },
      {
       "output_type": "stream",
       "stream": "stdout",
       "text": [
        "7\t4.504e-02\t1.344e-01\t9.857e-01\t9.566e-01\n"
       ]
      },
      {
       "output_type": "stream",
       "stream": "stdout",
       "text": [
        "8\t4.488e-02\t1.344e-01\t9.858e-01\t9.566e-01\n"
       ]
      },
      {
       "output_type": "stream",
       "stream": "stdout",
       "text": [
        "9\t4.473e-02\t1.344e-01\t9.858e-01\t9.566e-01\n"
       ]
      },
      {
       "output_type": "stream",
       "stream": "stdout",
       "text": [
        "10\t4.459e-02\t1.344e-01\t9.858e-01\t9.566e-01\n"
       ]
      },
      {
       "output_type": "stream",
       "stream": "stdout",
       "text": [
        "11\t4.447e-02\t1.344e-01\t9.859e-01\t9.566e-01\n"
       ]
      },
      {
       "output_type": "stream",
       "stream": "stdout",
       "text": [
        "12\t4.436e-02\t1.344e-01\t9.859e-01\t9.565e-01\n"
       ]
      },
      {
       "output_type": "stream",
       "stream": "stdout",
       "text": [
        "13\t4.426e-02\t1.345e-01\t9.859e-01\t9.565e-01\n"
       ]
      },
      {
       "output_type": "stream",
       "stream": "stdout",
       "text": [
        "14\t4.416e-02\t1.345e-01\t9.860e-01\t9.565e-01\n"
       ]
      },
      {
       "output_type": "stream",
       "stream": "stdout",
       "text": [
        "15\t4.407e-02\t1.345e-01\t9.860e-01\t9.565e-01\n"
       ]
      },
      {
       "output_type": "stream",
       "stream": "stdout",
       "text": [
        "16\t4.399e-02\t1.345e-01\t9.860e-01\t9.565e-01\n"
       ]
      },
      {
       "output_type": "stream",
       "stream": "stdout",
       "text": [
        "17\t4.391e-02\t1.346e-01\t9.860e-01\t9.565e-01\n"
       ]
      },
      {
       "output_type": "stream",
       "stream": "stdout",
       "text": [
        "18\t4.383e-02\t1.346e-01\t9.861e-01\t9.564e-01\n"
       ]
      },
      {
       "output_type": "stream",
       "stream": "stdout",
       "text": [
        "19\t4.376e-02\t1.346e-01\t9.861e-01\t9.564e-01\n"
       ]
      },
      {
       "output_type": "stream",
       "stream": "stdout",
       "text": [
        "20\t4.369e-02\t1.347e-01\t9.861e-01\t9.564e-01\n"
       ]
      },
      {
       "output_type": "stream",
       "stream": "stdout",
       "text": [
        "21\t4.362e-02\t1.347e-01\t9.861e-01\t9.564e-01\n"
       ]
      },
      {
       "output_type": "stream",
       "stream": "stdout",
       "text": [
        "22\t4.356e-02\t1.348e-01\t9.861e-01\t9.564e-01\n"
       ]
      },
      {
       "output_type": "stream",
       "stream": "stdout",
       "text": [
        "23\t4.350e-02\t1.348e-01\t9.862e-01\t9.564e-01\n"
       ]
      },
      {
       "output_type": "stream",
       "stream": "stdout",
       "text": [
        "24\t4.345e-02\t1.348e-01\t9.862e-01\t9.564e-01\n"
       ]
      },
      {
       "output_type": "stream",
       "stream": "stdout",
       "text": [
        "25\t4.340e-02\t1.349e-01\t9.862e-01\t9.564e-01\n"
       ]
      },
      {
       "output_type": "stream",
       "stream": "stdout",
       "text": [
        "26\t4.335e-02\t1.349e-01\t9.862e-01\t9.564e-01\n"
       ]
      },
      {
       "output_type": "stream",
       "stream": "stdout",
       "text": [
        "27\t4.331e-02\t1.349e-01\t9.862e-01\t9.564e-01\n"
       ]
      },
      {
       "output_type": "stream",
       "stream": "stdout",
       "text": [
        "28\t4.326e-02\t1.350e-01\t9.862e-01\t9.564e-01\n"
       ]
      },
      {
       "output_type": "stream",
       "stream": "stdout",
       "text": [
        "29\t4.322e-02\t1.350e-01\t9.862e-01\t9.564e-01\n"
       ]
      }
     ],
     "prompt_number": 16
    },
    {
     "cell_type": "code",
     "collapsed": false,
     "input": [
      "plt.plot(acc_train)\n",
      "plt.plot(acc_test)"
     ],
     "language": "python",
     "metadata": {},
     "outputs": [
      {
       "metadata": {},
       "output_type": "pyout",
       "prompt_number": 17,
       "text": [
        "[<matplotlib.lines.Line2D at 0x8c1ad50>]"
       ]
      },
      {
       "metadata": {},
       "output_type": "display_data",
       "png": "[encoded data removed]",
       "text": [
        "<matplotlib.figure.Figure at 0x8c1af10>"
       ]
      }
     ],
     "prompt_number": 17
    },
    {
     "cell_type": "heading",
     "level": 1,
     "metadata": {},
     "source": [
      "Evaluation"
     ]
    },
    {
     "cell_type": "code",
     "collapsed": false,
     "input": [
      "# compute evaluation metrics\n",
      "def construct_pred_mask(tags_predicted, predictat):\n",
      "    n_samples, n_tags = tags_predicted.shape\n",
      "    rankings = np.argsort(-tags_predicted, axis=1)[:, :predictat]\n",
      "    tags_predicted_binary = np.zeros_like(tags_predicted, dtype=bool)\n",
      "    for i in xrange(n_samples):\n",
      "        tags_predicted_binary[i, rankings[i]] = 1\n",
      "    return tags_predicted_binary\n",
      "\n",
      "def per_tag_prec_recall(tags_predicted_binary, tags_true_binary):\n",
      "    mask = np.logical_and(tags_predicted_binary, tags_true_binary)\n",
      "    prec = mask.sum(axis=0) / (tags_predicted_binary.sum(axis=0) + np.spacing(1))\n",
      "    tags_true_count = tags_true_binary.sum(axis=0).astype(float)\n",
      "    idx = (tags_true_count > 0)\n",
      "    recall = mask.sum(axis=0)[idx] / tags_true_count[idx]\n",
      "    return prec, recall\n",
      "\n",
      "\n",
      "def aroc_ap(tags_true_binary, tags_predicted):\n",
      "    n_tags = tags_true_binary.shape[1]\n",
      "    \n",
      "    auc = list()\n",
      "    aprec = list()\n",
      "    for i in xrange(n_tags):\n",
      "        if np.sum(tags_true_binary[:, i]) != 0:\n",
      "            auc.append(roc_auc_score(tags_true_binary[:, i], tags_predicted[:, i]))\n",
      "            aprec.append(average_precision_score(tags_true_binary[:, i], tags_predicted[:, i]))\n",
      "    return auc, aprec\n",
      "\n",
      "\n",
      "def print_out_metrics(tags_true_binary, tags_predicted, predictat):\n",
      "    tags_predicted_binary = construct_pred_mask(tags_predicted, predictat)\n",
      "    prec, recall = per_tag_prec_recall(tags_predicted_binary, tags_true_binary)\n",
      "    mprec, mrecall = np.mean(prec), np.mean(recall)\n",
      "    \n",
      "    print 'Precision = %.3f (%.3f)' % (mprec, np.std(prec) / sqrt(prec.size))\n",
      "    print 'Recall = %.3f (%.3f)' % (mrecall, np.std(recall) / sqrt(recall.size))\n",
      "    print 'F-score = %.3f' % (2 * mprec * mrecall / (mprec + mrecall))\n",
      "\n",
      "    auc, aprec = aroc_ap(tags_true_binary, tags_predicted)\n",
      "    print 'AROC = %.3f (%.3f)' % (np.mean(auc), np.std(auc) / sqrt(len(auc)))\n",
      "    print 'AP = %.3f (%.3f)' % (np.mean(aprec), np.std(aprec) / sqrt(len(aprec)))"
     ],
     "language": "python",
     "metadata": {},
     "outputs": [],
     "prompt_number": 18
    },
    {
     "cell_type": "code",
     "collapsed": false,
     "input": [
      "tags_predicted = pred_test\n",
      "print tags_predicted.min(), tags_predicted.max()\n",
      "\n",
      "div_factor = 1.25\n",
      "tags_predicted = tags_predicted - div_factor * np.mean(tags_predicted, axis=0)"
     ],
     "language": "python",
     "metadata": {},
     "outputs": [
      {
       "output_type": "stream",
       "stream": "stdout",
       "text": [
        "2.46246e-16 0.985151\n"
       ]
      }
     ],
     "prompt_number": 19
    },
    {
     "cell_type": "code",
     "collapsed": false,
     "input": [
      "predictat = 20\n",
      "tags_true_binary = (y_test > 0)\n",
      "\n",
      "print_out_metrics(tags_true_binary, tags_predicted, predictat)"
     ],
     "language": "python",
     "metadata": {},
     "outputs": [
      {
       "output_type": "stream",
       "stream": "stdout",
       "text": [
        "Precision = 0.180 (0.008)\n",
        "Recall = 0.191 (0.009)\n",
        "F-score = 0.185\n",
        "AROC = 0.758 (0.005)"
       ]
      },
      {
       "output_type": "stream",
       "stream": "stdout",
       "text": [
        "\n",
        "AP = 0.154 (0.007)\n"
       ]
      }
     ],
     "prompt_number": 20
    },
    {
     "cell_type": "code",
     "collapsed": false,
     "input": [],
     "language": "python",
     "metadata": {},
     "outputs": [],
     "prompt_number": 20
    }
   ],
   "metadata": {}
  }
 ]
}