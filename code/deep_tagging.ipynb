{
 "metadata": {
  "name": "",
  "signature": "sha256:f77d3718946fc6196c15fb4493c7e30f303f45c3ff76e9df8dbe034324d9dc3f"
 },
 "nbformat": 3,
 "nbformat_minor": 0,
 "worksheets": [
  {
   "cells": [
    {
     "cell_type": "code",
     "collapsed": false,
     "input": [
      "%matplotlib inline"
     ],
     "language": "python",
     "metadata": {},
     "outputs": [],
     "prompt_number": 1
    },
    {
     "cell_type": "code",
     "collapsed": false,
     "input": [
      "import sys\n",
      "\n",
      "import numpy as np\n",
      "import matplotlib.pyplot as plt\n",
      "\n",
      "import os\n",
      "os.environ['THEANO_FLAGS']='floatX=float32,device=gpu,nvcc.fastmath=True'\n",
      "\n",
      "import theano\n",
      "import theano.tensor as T\n",
      "tf = theano.config.floatX\n",
      "\n",
      "from math import sqrt\n",
      "from scipy import io\n",
      "from sklearn.metrics import roc_auc_score, average_precision_score"
     ],
     "language": "python",
     "metadata": {},
     "outputs": [
      {
       "output_type": "stream",
       "stream": "stderr",
       "text": [
        "Using gpu device 0: GeForce GRID K520\n"
       ]
      }
     ],
     "prompt_number": 2
    },
    {
     "cell_type": "heading",
     "level": 1,
     "metadata": {},
     "source": [
      "Load data"
     ]
    },
    {
     "cell_type": "code",
     "collapsed": false,
     "input": [
      "K = 1024"
     ],
     "language": "python",
     "metadata": {},
     "outputs": [],
     "prompt_number": 3
    },
    {
     "cell_type": "code",
     "collapsed": false,
     "input": [
      "DATA_DIR = '/dataeast/dawen/'"
     ],
     "language": "python",
     "metadata": {},
     "outputs": [],
     "prompt_number": 4
    },
    {
     "cell_type": "code",
     "collapsed": false,
     "input": [
      "X_train = np.load(os.path.join(DATA_DIR, 'X_train_K%d.npy' % K))\n",
      "X_test = np.load(os.path.join(DATA_DIR, 'X_test_K%d.npy' % K))\n",
      "y_train = np.load(os.path.join(DATA_DIR, 'y_train.npy'))\n",
      "y_test = np.load(os.path.join(DATA_DIR, 'y_test.npy'))\n",
      "\n",
      "y_train[y_train == 0] = -1\n",
      "y_test[y_test == 0] = -1"
     ],
     "language": "python",
     "metadata": {},
     "outputs": [],
     "prompt_number": 5
    },
    {
     "cell_type": "code",
     "collapsed": false,
     "input": [
      "#X_train = X_train / np.sum(X_train, axis=1, keepdims=True).astype(tf)\n",
      "#X_test = X_test / np.sum(X_test, axis=1, keepdims=True).astype(tf)\n",
      "\n",
      "# for numpy 1.6\n",
      "X_train = X_train / (np.sum(X_train, axis=1)[:, None]).astype(tf)\n",
      "X_test = X_test / (np.sum(X_test, axis=1)[:, None]).astype(tf)"
     ],
     "language": "python",
     "metadata": {},
     "outputs": [],
     "prompt_number": 6
    },
    {
     "cell_type": "heading",
     "level": 1,
     "metadata": {},
     "source": [
      "Define the network"
     ]
    },
    {
     "cell_type": "code",
     "collapsed": false,
     "input": [
      "rng = np.random.RandomState(seed=98765)\n",
      "\n",
      "rng_CUDA = theano.sandbox.cuda.rng_curand.CURAND_RandomStreams(98765)"
     ],
     "language": "python",
     "metadata": {},
     "outputs": [],
     "prompt_number": 7
    },
    {
     "cell_type": "code",
     "collapsed": false,
     "input": [
      "n_samples, n_feats = X_train.shape\n",
      "n_tags = y_train.shape[1]\n",
      "\n",
      "batch_size = 100\n",
      "\n",
      "X_batch = theano.shared(np.zeros((batch_size, n_feats), dtype=tf), 'X_batch', borrow=True)\n",
      "y_batch = theano.shared(np.zeros((batch_size, n_tags), dtype=np.int32), 'y_batch', borrow=True)"
     ],
     "language": "python",
     "metadata": {},
     "outputs": [],
     "prompt_number": 8
    },
    {
     "cell_type": "code",
     "collapsed": false,
     "input": [
      "class LogisticRegressionLayer:\n",
      "    def __init__(self, rng, input, n_in, n_out):\n",
      "        # input and params\n",
      "        self.input = input\n",
      "        \n",
      "        self.W = theano.shared(0.01 * rng.randn(n_in, n_out).astype(tf), name='W', borrow=True)\n",
      "        self.b = theano.shared(0.01 * rng.randn(n_out).astype(tf), name='b', borrow=True)\n",
      "        \n",
      "        self.params = [self.W, self.b]\n",
      "\n",
      "        # AdaGrad \n",
      "        self.hist_grad_W = theano.shared(np.zeros((n_in, n_out), dtype=tf), name='hist_grad_W', borrow=True)\n",
      "        self.hist_grad_b = theano.shared(np.zeros(n_out, dtype=tf), name='hist_grad_b', borrow=True)\n",
      "        \n",
      "        self.hist_grads = [self.hist_grad_W, self.hist_grad_b]\n",
      "        \n",
      "        # output\n",
      "        self.linout = T.dot(self.input, self.W) + self.b\n",
      "        \n",
      "        self.L2_sq = T.sum(T.sqr(self.W)) + T.sum(T.sqr(self.b))  \n",
      "        \n",
      "    def neg_log_likeli(self, y):\n",
      "        return T.mean(T.nnet.softplus(T.neg(y * self.linout)))\n",
      "           \n",
      "        \n",
      "class HiddenReluLayer(object):\n",
      "    def __init__(self, rng, rng_CUDA, input, n_in, n_out, dropout):\n",
      "        # input and params\n",
      "        self.input = input\n",
      "        self.dropout = dropout\n",
      "        \n",
      "        self.W = theano.shared(value=0.01 * rng.randn(n_in, n_out).astype(tf), name='W', borrow=True)\n",
      "        self.b = theano.shared(value=0.01 * rng.randn(n_out).astype(tf), name='b', borrow=True)\n",
      "        \n",
      "        self.params = [self.W, self.b]\n",
      "        \n",
      "        # AdaGrad\n",
      "        self.hist_grad_W = theano.shared(np.zeros((n_in, n_out), dtype=tf), name='hist_grad_W', borrow=True)\n",
      "        self.hist_grad_b = theano.shared(np.zeros(n_out, dtype=tf), name='hist_grad_b', borrow=True)\n",
      "        \n",
      "        self.hist_grads = [self.hist_grad_W, self.hist_grad_b]\n",
      "        \n",
      "        # output\n",
      "        lin_out = T.dot(self.input, self.W) + self.b\n",
      "        if T.gt(self.dropout, 0):\n",
      "            mask = 1.0 / (1.0 - self.dropout) * T.cast(rng_CUDA.uniform(size=(n_out, )) > self.dropout, dtype=tf)\n",
      "            lin_out = lin_out * mask\n",
      "        self.output = T.maximum(lin_out, 0)\n",
      "        self.L2_sq = T.sum(T.sqr(self.W)) + T.sum(T.sqr(self.b))\n",
      "        \n",
      "    def activation(self, X):\n",
      "        output = T.maximum(T.dot(X, self.W) + self.b, 0)\n",
      "        return output"
     ],
     "language": "python",
     "metadata": {},
     "outputs": [],
     "prompt_number": 9
    },
    {
     "cell_type": "code",
     "collapsed": false,
     "input": [
      "n_units = 1200\n",
      "\n",
      "lam = T.scalar(name='lambda')\n",
      "delta = T.scalar(name='delta')\n",
      "\n",
      "layer0 = HiddenReluLayer(rng, rng_CUDA, input=X_batch, n_in=n_feats, n_out=n_units, dropout=delta)\n",
      "\n",
      "layer1 = HiddenReluLayer(rng, rng_CUDA, input=layer0.output, n_in=n_units, n_out=n_units, dropout=delta)\n",
      "\n",
      "layer2 = HiddenReluLayer(rng, rng_CUDA, input=layer1.output, n_in=n_units, n_out=n_units, dropout=delta)\n",
      "\n",
      "layer3 = LogisticRegressionLayer(rng, input=layer2.output, n_in=n_units, n_out=n_tags)\n",
      "\n",
      "layers = [layer0, layer1, layer2, layer3]"
     ],
     "language": "python",
     "metadata": {},
     "outputs": [],
     "prompt_number": 10
    },
    {
     "cell_type": "code",
     "collapsed": false,
     "input": [
      "params = []\n",
      "hist_grads = []\n",
      "\n",
      "for layer in layers:\n",
      "    params += layer.params\n",
      "    hist_grads += layer.hist_grads"
     ],
     "language": "python",
     "metadata": {},
     "outputs": [],
     "prompt_number": 11
    },
    {
     "cell_type": "code",
     "collapsed": false,
     "input": [
      "cost = layers[-1].neg_log_likeli(y_batch)\n",
      "\n",
      "for layer in layers:\n",
      "    cost = cost + lam * layer.L2_sq\n",
      "\n",
      "grads = T.grad(cost, params)"
     ],
     "language": "python",
     "metadata": {},
     "outputs": [],
     "prompt_number": 12
    },
    {
     "cell_type": "code",
     "collapsed": false,
     "input": [
      "eta = T.scalar(name='eta')\n",
      "  \n",
      "eps = 1e-8\n",
      "\n",
      "updates = []\n",
      "\n",
      "for param_i, grad_i, hist_grad_i in zip(params, grads, hist_grads):\n",
      "    new_hist_grad_i = hist_grad_i + T.sqr(grad_i)\n",
      "    updates.append((hist_grad_i, new_hist_grad_i))\n",
      "    updates.append((param_i, param_i - eta / (eps + T.sqrt(new_hist_grad_i)) * grad_i))\n",
      "    \n",
      "update_f = theano.function(inputs=[eta, lam, delta], outputs=[layers[-1].linout, cost], updates=updates)"
     ],
     "language": "python",
     "metadata": {},
     "outputs": [],
     "prompt_number": 13
    },
    {
     "cell_type": "code",
     "collapsed": false,
     "input": [
      "def _predict(X, y):\n",
      "    cost = 0\n",
      "    h = X\n",
      "    for layer in layers[:-1]:\n",
      "        h = h.dot(layer.W.get_value()) + layer.b.get_value()\n",
      "        h = np.maximum(h, 0)\n",
      "        cost += lam * (np.sum(layer.W.get_value()**2) + np.sum(layer.b.get_value()**2))\n",
      "    h = h.dot(layers[-1].W.get_value()) + layers[-1].b.get_value()\n",
      "    cost += np.mean(np.log(1 + np.exp(-y * h)))\n",
      "    return h, cost"
     ],
     "language": "python",
     "metadata": {},
     "outputs": [],
     "prompt_number": 14
    },
    {
     "cell_type": "code",
     "collapsed": false,
     "input": [
      "cost_train = []\n",
      "cost_test = []\n",
      "acc_train = []\n",
      "acc_test = []"
     ],
     "language": "python",
     "metadata": {},
     "outputs": [],
     "prompt_number": 15
    },
    {
     "cell_type": "code",
     "collapsed": false,
     "input": [
      "eta = .05\n",
      "lam = 0\n",
      "delta = 0.25"
     ],
     "language": "python",
     "metadata": {},
     "outputs": [],
     "prompt_number": 16
    },
    {
     "cell_type": "code",
     "collapsed": false,
     "input": [
      "nepochs = 50\n",
      "print 'epoch\\tcost.train\\tcost.test\\ttrain.acc\\ttest.acc'\n",
      "sys.stdout.flush()\n",
      "\n",
      "for epoch in xrange(nepochs):\n",
      "    cost_batch = []\n",
      "    acc_batch = []\n",
      "    # Execute stochastic gradient updates\n",
      "    for i in xrange(0, n_samples, batch_size):\n",
      "        inds = np.arange(i, min(i + batch_size, n_samples), dtype=int)\n",
      "        X_batch.set_value(X_train[inds].astype(tf))\n",
      "        y_batch.set_value(y_train[inds].astype(np.int32))\n",
      "\n",
      "        pred, cost = update_f(eta, lam, delta)\n",
      "        cost_batch.append(cost)\n",
      "        acc_batch.append(1 - np.mean(np.logical_xor(pred > 0, y_train[inds] > 0)))\n",
      "\n",
      "    cost_train.append(np.mean(cost_batch))\n",
      "    acc_train.append(np.mean(acc_batch))\n",
      "    \n",
      "    pred_test, cost = _predict(X_test, y_test)\n",
      "    cost_test.append(cost)\n",
      "    acc_test.append(1 - np.mean(np.logical_xor(pred_test > 0, y_test > 0)))\n",
      "    \n",
      "    pred_test = 1. / (1 + np.exp(-pred_test))\n",
      "            \n",
      "    print('%d\\t%.3e\\t%.3e\\t%.3e\\t%.3e' % (epoch, cost_train[-1], cost_test[-1], acc_train[-1], acc_test[-1]))\n",
      "    sys.stdout.flush()"
     ],
     "language": "python",
     "metadata": {},
     "outputs": [
      {
       "output_type": "stream",
       "stream": "stdout",
       "text": [
        "epoch\tcost.train\tcost.test\ttrain.acc\ttest.acc\n"
       ]
      },
      {
       "output_type": "stream",
       "stream": "stdout",
       "text": [
        "0\t4.196e-02\t1.654e-01\t9.890e-01\t9.550e-01\n"
       ]
      },
      {
       "output_type": "stream",
       "stream": "stdout",
       "text": [
        "1\t4.189e-02\t1.663e-01\t9.890e-01\t9.550e-01\n"
       ]
      },
      {
       "output_type": "stream",
       "stream": "stdout",
       "text": [
        "2\t4.180e-02\t1.668e-01\t9.890e-01\t9.550e-01\n"
       ]
      },
      {
       "output_type": "stream",
       "stream": "stdout",
       "text": [
        "3\t4.176e-02\t1.658e-01\t9.890e-01\t9.551e-01\n"
       ]
      },
      {
       "output_type": "stream",
       "stream": "stdout",
       "text": [
        "4\t4.167e-02\t1.669e-01\t9.890e-01\t9.550e-01\n"
       ]
      },
      {
       "output_type": "stream",
       "stream": "stdout",
       "text": [
        "5\t4.162e-02\t1.677e-01\t9.890e-01\t9.550e-01\n"
       ]
      },
      {
       "output_type": "stream",
       "stream": "stdout",
       "text": [
        "6\t4.160e-02\t1.673e-01\t9.890e-01\t9.551e-01\n"
       ]
      },
      {
       "output_type": "stream",
       "stream": "stdout",
       "text": [
        "7\t4.158e-02\t1.672e-01\t9.890e-01\t9.550e-01\n"
       ]
      },
      {
       "output_type": "stream",
       "stream": "stdout",
       "text": [
        "8\t4.149e-02\t1.670e-01\t9.890e-01\t9.550e-01\n"
       ]
      },
      {
       "output_type": "stream",
       "stream": "stdout",
       "text": [
        "9\t4.145e-02\t1.680e-01\t9.890e-01\t9.551e-01\n"
       ]
      },
      {
       "output_type": "stream",
       "stream": "stdout",
       "text": [
        "10\t4.142e-02\t1.684e-01\t9.890e-01\t9.551e-01\n"
       ]
      },
      {
       "output_type": "stream",
       "stream": "stdout",
       "text": [
        "11\t4.137e-02\t1.696e-01\t9.890e-01\t9.550e-01\n"
       ]
      },
      {
       "output_type": "stream",
       "stream": "stdout",
       "text": [
        "12\t4.132e-02\t1.669e-01\t9.890e-01\t9.551e-01\n"
       ]
      },
      {
       "output_type": "stream",
       "stream": "stdout",
       "text": [
        "13\t4.132e-02\t1.713e-01\t9.890e-01\t9.550e-01\n"
       ]
      },
      {
       "output_type": "stream",
       "stream": "stdout",
       "text": [
        "14\t4.126e-02\t1.693e-01\t9.890e-01\t9.550e-01\n"
       ]
      },
      {
       "output_type": "stream",
       "stream": "stdout",
       "text": [
        "15\t4.116e-02\t1.694e-01\t9.890e-01\t9.551e-01\n"
       ]
      },
      {
       "output_type": "stream",
       "stream": "stdout",
       "text": [
        "16\t4.117e-02\t1.692e-01\t9.890e-01\t9.551e-01\n"
       ]
      },
      {
       "output_type": "stream",
       "stream": "stdout",
       "text": [
        "17\t4.113e-02\t1.701e-01\t9.891e-01\t9.550e-01\n"
       ]
      },
      {
       "output_type": "stream",
       "stream": "stdout",
       "text": [
        "18\t4.110e-02\t1.702e-01\t9.890e-01\t9.550e-01\n"
       ]
      },
      {
       "output_type": "stream",
       "stream": "stdout",
       "text": [
        "19\t4.103e-02\t1.690e-01\t9.891e-01\t9.551e-01\n"
       ]
      },
      {
       "output_type": "stream",
       "stream": "stdout",
       "text": [
        "20\t4.102e-02\t1.711e-01\t9.891e-01\t9.550e-01\n"
       ]
      },
      {
       "output_type": "stream",
       "stream": "stdout",
       "text": [
        "21\t4.102e-02\t1.691e-01\t9.891e-01\t9.551e-01\n"
       ]
      },
      {
       "output_type": "stream",
       "stream": "stdout",
       "text": [
        "22\t4.093e-02\t1.694e-01\t9.891e-01\t9.551e-01\n"
       ]
      },
      {
       "output_type": "stream",
       "stream": "stdout",
       "text": [
        "23\t4.092e-02\t1.687e-01\t9.891e-01\t9.551e-01\n"
       ]
      },
      {
       "output_type": "stream",
       "stream": "stdout",
       "text": [
        "24\t4.089e-02\t1.690e-01\t9.891e-01\t9.551e-01\n"
       ]
      },
      {
       "output_type": "stream",
       "stream": "stdout",
       "text": [
        "25\t4.087e-02\t1.702e-01\t9.891e-01\t9.551e-01\n"
       ]
      },
      {
       "output_type": "stream",
       "stream": "stdout",
       "text": [
        "26\t4.077e-02\t1.691e-01\t9.891e-01\t9.551e-01\n"
       ]
      },
      {
       "output_type": "stream",
       "stream": "stdout",
       "text": [
        "27\t4.075e-02\t1.702e-01\t9.891e-01\t9.551e-01\n"
       ]
      },
      {
       "output_type": "stream",
       "stream": "stdout",
       "text": [
        "28\t4.074e-02\t1.700e-01\t9.891e-01\t9.551e-01\n"
       ]
      },
      {
       "output_type": "stream",
       "stream": "stdout",
       "text": [
        "29\t4.073e-02\t1.702e-01\t9.891e-01\t9.552e-01\n"
       ]
      },
      {
       "output_type": "stream",
       "stream": "stdout",
       "text": [
        "30\t4.073e-02\t1.699e-01\t9.891e-01\t9.551e-01\n"
       ]
      },
      {
       "output_type": "stream",
       "stream": "stdout",
       "text": [
        "31\t4.065e-02\t1.694e-01\t9.891e-01\t9.552e-01\n"
       ]
      },
      {
       "output_type": "stream",
       "stream": "stdout",
       "text": [
        "32\t4.061e-02\t1.697e-01\t9.891e-01\t9.552e-01\n"
       ]
      },
      {
       "output_type": "stream",
       "stream": "stdout",
       "text": [
        "33\t4.056e-02\t1.699e-01\t9.891e-01\t9.551e-01\n"
       ]
      },
      {
       "output_type": "stream",
       "stream": "stdout",
       "text": [
        "34\t4.055e-02\t1.709e-01\t9.891e-01\t9.551e-01\n"
       ]
      },
      {
       "output_type": "stream",
       "stream": "stdout",
       "text": [
        "35\t4.058e-02\t1.720e-01\t9.891e-01\t9.551e-01\n"
       ]
      },
      {
       "output_type": "stream",
       "stream": "stdout",
       "text": [
        "36\t4.052e-02\t1.718e-01\t9.891e-01\t9.551e-01\n"
       ]
      },
      {
       "output_type": "stream",
       "stream": "stdout",
       "text": [
        "37\t4.050e-02\t1.705e-01\t9.891e-01\t9.551e-01\n"
       ]
      },
      {
       "output_type": "stream",
       "stream": "stdout",
       "text": [
        "38\t4.047e-02\t1.688e-01\t9.891e-01\t9.552e-01\n"
       ]
      },
      {
       "output_type": "stream",
       "stream": "stdout",
       "text": [
        "39\t4.045e-02\t1.703e-01\t9.891e-01\t9.552e-01\n"
       ]
      },
      {
       "output_type": "stream",
       "stream": "stdout",
       "text": [
        "40\t4.042e-02\t1.728e-01\t9.891e-01\t9.551e-01\n"
       ]
      },
      {
       "output_type": "stream",
       "stream": "stdout",
       "text": [
        "41\t4.037e-02\t1.721e-01\t9.891e-01\t9.551e-01\n"
       ]
      },
      {
       "output_type": "stream",
       "stream": "stdout",
       "text": [
        "42\t4.039e-02\t1.723e-01\t9.891e-01\t9.551e-01\n"
       ]
      },
      {
       "output_type": "stream",
       "stream": "stdout",
       "text": [
        "43\t4.034e-02\t1.718e-01\t9.891e-01\t9.551e-01\n"
       ]
      },
      {
       "output_type": "stream",
       "stream": "stdout",
       "text": [
        "44\t4.028e-02\t1.719e-01\t9.891e-01\t9.551e-01\n"
       ]
      },
      {
       "output_type": "stream",
       "stream": "stdout",
       "text": [
        "45\t4.029e-02\t1.706e-01\t9.891e-01\t9.552e-01\n"
       ]
      },
      {
       "output_type": "stream",
       "stream": "stdout",
       "text": [
        "46\t4.023e-02\t1.727e-01\t9.892e-01\t9.551e-01\n"
       ]
      },
      {
       "output_type": "stream",
       "stream": "stdout",
       "text": [
        "47\t4.024e-02\t1.702e-01\t9.892e-01\t9.552e-01\n"
       ]
      },
      {
       "output_type": "stream",
       "stream": "stdout",
       "text": [
        "48\t4.018e-02\t1.718e-01\t9.892e-01\t9.552e-01\n"
       ]
      },
      {
       "output_type": "stream",
       "stream": "stdout",
       "text": [
        "49\t4.020e-02\t1.709e-01\t9.892e-01\t9.552e-01\n"
       ]
      }
     ],
     "prompt_number": 24
    },
    {
     "cell_type": "code",
     "collapsed": false,
     "input": [
      "plt.plot(acc_train)\n",
      "plt.plot(acc_test)"
     ],
     "language": "python",
     "metadata": {},
     "outputs": [
      {
       "metadata": {},
       "output_type": "pyout",
       "prompt_number": 25,
       "text": [
        "[<matplotlib.lines.Line2D at 0xab95f10>]"
       ]
      },
      {
       "metadata": {},
       "output_type": "display_data",
       "png": "[encoded data removed]",
       "text": [
        "<matplotlib.figure.Figure at 0xab8a190>"
       ]
      }
     ],
     "prompt_number": 25
    },
    {
     "cell_type": "heading",
     "level": 1,
     "metadata": {},
     "source": [
      "Evaluation"
     ]
    },
    {
     "cell_type": "code",
     "collapsed": false,
     "input": [
      "# compute evaluation metrics\n",
      "def construct_pred_mask(tags_predicted, predictat):\n",
      "    n_samples, n_tags = tags_predicted.shape\n",
      "    rankings = np.argsort(-tags_predicted, axis=1)[:, :predictat]\n",
      "    tags_predicted_binary = np.zeros_like(tags_predicted, dtype=bool)\n",
      "    for i in xrange(n_samples):\n",
      "        tags_predicted_binary[i, rankings[i]] = 1\n",
      "    return tags_predicted_binary\n",
      "\n",
      "def per_tag_prec_recall(tags_predicted_binary, tags_true_binary):\n",
      "    mask = np.logical_and(tags_predicted_binary, tags_true_binary)\n",
      "    prec = mask.sum(axis=0) / (tags_predicted_binary.sum(axis=0) + np.spacing(1))\n",
      "    tags_true_count = tags_true_binary.sum(axis=0).astype(float)\n",
      "    idx = (tags_true_count > 0)\n",
      "    recall = mask.sum(axis=0)[idx] / tags_true_count[idx]\n",
      "    return prec, recall\n",
      "\n",
      "\n",
      "def aroc_ap(tags_true_binary, tags_predicted):\n",
      "    n_tags = tags_true_binary.shape[1]\n",
      "    \n",
      "    auc = list()\n",
      "    aprec = list()\n",
      "    for i in xrange(n_tags):\n",
      "        if np.sum(tags_true_binary[:, i]) != 0:\n",
      "            auc.append(roc_auc_score(tags_true_binary[:, i], tags_predicted[:, i]))\n",
      "            aprec.append(average_precision_score(tags_true_binary[:, i], tags_predicted[:, i]))\n",
      "    return auc, aprec\n",
      "\n",
      "\n",
      "def print_out_metrics(tags_true_binary, tags_predicted, predictat):\n",
      "    tags_predicted_binary = construct_pred_mask(tags_predicted, predictat)\n",
      "    prec, recall = per_tag_prec_recall(tags_predicted_binary, tags_true_binary)\n",
      "    mprec, mrecall = np.mean(prec), np.mean(recall)\n",
      "    \n",
      "    print 'Precision = %.3f (%.3f)' % (mprec, np.std(prec) / sqrt(prec.size))\n",
      "    print 'Recall = %.3f (%.3f)' % (mrecall, np.std(recall) / sqrt(recall.size))\n",
      "    print 'F-score = %.3f' % (2 * mprec * mrecall / (mprec + mrecall))\n",
      "\n",
      "    auc, aprec = aroc_ap(tags_true_binary, tags_predicted)\n",
      "    print 'AROC = %.3f (%.3f)' % (np.mean(auc), np.std(auc) / sqrt(len(auc)))\n",
      "    print 'AP = %.3f (%.3f)' % (np.mean(aprec), np.std(aprec) / sqrt(len(aprec)))"
     ],
     "language": "python",
     "metadata": {},
     "outputs": [],
     "prompt_number": 26
    },
    {
     "cell_type": "code",
     "collapsed": false,
     "input": [
      "tags_predicted = pred_test\n",
      "print tags_predicted.min(), tags_predicted.max()\n",
      "\n",
      "div_factor = 1.25\n",
      "tags_predicted = tags_predicted - div_factor * np.mean(tags_predicted, axis=0)"
     ],
     "language": "python",
     "metadata": {},
     "outputs": [
      {
       "output_type": "stream",
       "stream": "stdout",
       "text": [
        "7.20792e-14 0.911772\n"
       ]
      }
     ],
     "prompt_number": 27
    },
    {
     "cell_type": "code",
     "collapsed": false,
     "input": [
      "# results with dropout = 0.5 (50 epochs)\n",
      "predictat = 20\n",
      "tags_true_binary = (y_test > 0)\n",
      "\n",
      "print_out_metrics(tags_true_binary, tags_predicted, predictat)"
     ],
     "language": "python",
     "metadata": {},
     "outputs": [
      {
       "output_type": "stream",
       "stream": "stdout",
       "text": [
        "Precision = 0.184 (0.009)\n",
        "Recall = 0.207 (0.009)\n",
        "F-score = 0.195\n",
        "AROC = 0.781 (0.005)"
       ]
      },
      {
       "output_type": "stream",
       "stream": "stdout",
       "text": [
        "\n",
        "AP = 0.178 (0.007)\n"
       ]
      }
     ],
     "prompt_number": 26
    },
    {
     "cell_type": "code",
     "collapsed": false,
     "input": [
      "# results with dropout = 0.25 (50 epochs)\n",
      "predictat = 20\n",
      "tags_true_binary = (y_test > 0)\n",
      "\n",
      "print_out_metrics(tags_true_binary, tags_predicted, predictat)"
     ],
     "language": "python",
     "metadata": {},
     "outputs": [
      {
       "output_type": "stream",
       "stream": "stdout",
       "text": [
        "Precision = 0.192 (0.009)\n",
        "Recall = 0.212 (0.009)\n",
        "F-score = 0.202\n",
        "AROC = 0.777 (0.005)"
       ]
      },
      {
       "output_type": "stream",
       "stream": "stdout",
       "text": [
        "\n",
        "AP = 0.177 (0.007)\n"
       ]
      }
     ],
     "prompt_number": 21
    },
    {
     "cell_type": "code",
     "collapsed": false,
     "input": [
      "# results with dropout = 0.25 (100 epochs)\n",
      "predictat = 20\n",
      "tags_true_binary = (y_test > 0)\n",
      "\n",
      "print_out_metrics(tags_true_binary, tags_predicted, predictat)"
     ],
     "language": "python",
     "metadata": {},
     "outputs": [
      {
       "output_type": "stream",
       "stream": "stdout",
       "text": [
        "Precision = 0.193 (0.008)\n",
        "Recall = 0.215 (0.009)\n",
        "F-score = 0.203\n",
        "AROC = 0.775 (0.005)"
       ]
      },
      {
       "output_type": "stream",
       "stream": "stdout",
       "text": [
        "\n",
        "AP = 0.172 (0.007)\n"
       ]
      }
     ],
     "prompt_number": 29
    },
    {
     "cell_type": "code",
     "collapsed": false,
     "input": [],
     "language": "python",
     "metadata": {},
     "outputs": []
    }
   ],
   "metadata": {}
  }
 ]
}