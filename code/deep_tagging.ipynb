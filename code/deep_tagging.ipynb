{
 "metadata": {
  "name": "",
  "signature": "sha256:71a67d1012ab49c3a621cccdc8f32d6475d070bce896ff248c752071588cca2a"
 },
 "nbformat": 3,
 "nbformat_minor": 0,
 "worksheets": [
  {
   "cells": [
    {
     "cell_type": "code",
     "collapsed": false,
     "input": [
      "%matplotlib inline"
     ],
     "language": "python",
     "metadata": {},
     "outputs": [],
     "prompt_number": 1
    },
    {
     "cell_type": "code",
     "collapsed": false,
     "input": [
      "import sys\n",
      "\n",
      "import numpy as np\n",
      "import matplotlib.pyplot as plt\n",
      "\n",
      "import os\n",
      "os.environ['THEANO_FLAGS']='floatX=float32,device=gpu,nvcc.fastmath=True'\n",
      "\n",
      "import theano\n",
      "import theano.tensor as T\n",
      "tf = theano.config.floatX\n",
      "\n",
      "from math import sqrt\n",
      "from scipy import io\n",
      "from sklearn.metrics import roc_auc_score, average_precision_score"
     ],
     "language": "python",
     "metadata": {},
     "outputs": [
      {
       "output_type": "stream",
       "stream": "stderr",
       "text": [
        "Using gpu device 0: GeForce GRID K520\n"
       ]
      }
     ],
     "prompt_number": 2
    },
    {
     "cell_type": "heading",
     "level": 1,
     "metadata": {},
     "source": [
      "Load data"
     ]
    },
    {
     "cell_type": "code",
     "collapsed": false,
     "input": [
      "K = 1024"
     ],
     "language": "python",
     "metadata": {},
     "outputs": [],
     "prompt_number": 3
    },
    {
     "cell_type": "code",
     "collapsed": false,
     "input": [
      "DATA_DIR = '/dataeast/dawen/'"
     ],
     "language": "python",
     "metadata": {},
     "outputs": [],
     "prompt_number": 4
    },
    {
     "cell_type": "code",
     "collapsed": false,
     "input": [
      "X_train = np.load(os.path.join(DATA_DIR, 'X_train_K%d.npy' % K))\n",
      "X_test = np.load(os.path.join(DATA_DIR, 'X_test_K%d.npy' % K))\n",
      "y_train = np.load(os.path.join(DATA_DIR, 'y_train.npy'))\n",
      "y_test = np.load(os.path.join(DATA_DIR, 'y_test.npy'))"
     ],
     "language": "python",
     "metadata": {},
     "outputs": [],
     "prompt_number": 5
    },
    {
     "cell_type": "code",
     "collapsed": false,
     "input": [
      "#X_train = X_train / np.sum(X_train, axis=1, keepdims=True).astype(tf)\n",
      "#X_test = X_test / np.sum(X_test, axis=1, keepdims=True).astype(tf)\n",
      "\n",
      "# for numpy 1.6\n",
      "X_train = X_train / (np.sum(X_train, axis=1)[:, None]).astype(tf)\n",
      "X_test = X_test / (np.sum(X_test, axis=1)[:, None]).astype(tf)"
     ],
     "language": "python",
     "metadata": {},
     "outputs": [],
     "prompt_number": 6
    },
    {
     "cell_type": "heading",
     "level": 1,
     "metadata": {},
     "source": [
      "Define the network"
     ]
    },
    {
     "cell_type": "code",
     "collapsed": false,
     "input": [
      "rng = np.random.RandomState(seed=98765)\n",
      "\n",
      "rng_CUDA = theano.sandbox.cuda.rng_curand.CURAND_RandomStreams(98765)"
     ],
     "language": "python",
     "metadata": {},
     "outputs": [],
     "prompt_number": 7
    },
    {
     "cell_type": "code",
     "collapsed": false,
     "input": [
      "n_samples, n_feats = X_train.shape\n",
      "n_tags = y_train.shape[1]\n",
      "\n",
      "batch_size = 100\n",
      "\n",
      "X_batch = theano.shared(np.zeros((batch_size, n_feats), dtype=tf), 'X_batch', borrow=True)\n",
      "y_batch = theano.shared(np.zeros((batch_size, n_tags), dtype=np.int32), 'y_batch', borrow=True)"
     ],
     "language": "python",
     "metadata": {},
     "outputs": [],
     "prompt_number": 8
    },
    {
     "cell_type": "code",
     "collapsed": false,
     "input": [
      "class LogisticRegressionLayer:\n",
      "    def __init__(self, rng, input, n_in, n_out):\n",
      "        # input and params\n",
      "        self.input = input\n",
      "        \n",
      "        self.W = theano.shared(0.01 * rng.randn(n_in, n_out).astype(tf), name='W', borrow=True)\n",
      "        self.b = theano.shared(0.01 * rng.randn(n_out).astype(tf), name='b', borrow=True)\n",
      "        \n",
      "        self.params = [self.W, self.b]\n",
      "\n",
      "        # AdaGrad \n",
      "        self.hist_grad_W = theano.shared(np.zeros((n_in, n_out), dtype=tf), name='hist_grad_W', borrow=True)\n",
      "        self.hist_grad_b = theano.shared(np.zeros(n_out, dtype=tf), name='hist_grad_b', borrow=True)\n",
      "        \n",
      "        self.hist_grads = [self.hist_grad_W, self.hist_grad_b]\n",
      "        \n",
      "        # output\n",
      "        self.output = T.nnet.softmax(T.dot(self.input, self.W) + self.b)\n",
      "        self.L2_sq = T.sum(T.sqr(self.W)) + T.sum(T.sqr(self.b))\n",
      "        \n",
      "    def log_likeli(self, y):\n",
      "        return T.mean(y * T.log(self.output) + (1 - y) * T.log(1 - self.output))   \n",
      "           \n",
      "        \n",
      "class HiddenReluLayer(object):\n",
      "    def __init__(self, rng, rng_CUDA, input, n_in, n_out, dropout):\n",
      "        # input and params\n",
      "        self.input = input\n",
      "        self.dropout = dropout\n",
      "        \n",
      "        self.W = theano.shared(value=0.01 * rng.randn(n_in, n_out).astype(tf), name='W', borrow=True)\n",
      "        self.b = theano.shared(value=0.01 * rng.randn(n_out).astype(tf), name='b', borrow=True)\n",
      "        \n",
      "        self.params = [self.W, self.b]\n",
      "        \n",
      "        # AdaGrad\n",
      "        self.hist_grad_W = theano.shared(np.zeros((n_in, n_out), dtype=tf), name='hist_grad_W', borrow=True)\n",
      "        self.hist_grad_b = theano.shared(np.zeros(n_out, dtype=tf), name='hist_grad_b', borrow=True)\n",
      "        \n",
      "        self.hist_grads = [self.hist_grad_W, self.hist_grad_b]\n",
      "        \n",
      "        # output\n",
      "        lin_out = T.dot(self.input, self.W) + self.b\n",
      "        if T.gt(self.dropout, 0):\n",
      "            mask = 1.0 / (1.0 - self.dropout) * T.cast(rng_CUDA.uniform(size=(n_out, )) > self.dropout, dtype=tf)\n",
      "            lin_out = lin_out * mask\n",
      "        self.output = T.maximum(lin_out, 0)\n",
      "        self.L2_sq = T.sum(T.sqr(self.W)) + T.sum(T.sqr(self.b))\n",
      "        \n",
      "    def activation(self, X):\n",
      "        output = T.maximum(T.dot(X, self.W) + self.b, 0)\n",
      "        return output"
     ],
     "language": "python",
     "metadata": {},
     "outputs": [],
     "prompt_number": 9
    },
    {
     "cell_type": "code",
     "collapsed": false,
     "input": [
      "n_units = 1200\n",
      "\n",
      "lam = T.scalar(name='lambda')\n",
      "delta = T.scalar(name='delta')\n",
      "\n",
      "layer0 = HiddenReluLayer(rng, rng_CUDA, input=X_batch, n_in=n_feats, n_out=n_units, dropout=delta)\n",
      "\n",
      "layer1 = HiddenReluLayer(rng, rng_CUDA, input=layer0.output, n_in=n_units, n_out=n_units, dropout=delta)\n",
      "\n",
      "layer2 = HiddenReluLayer(rng, rng_CUDA, input=layer1.output, n_in=n_units, n_out=n_units, dropout=delta)\n",
      "\n",
      "layer3 = LogisticRegressionLayer(rng, input=layer2.output, n_in=n_units, n_out=n_tags)\n",
      "\n",
      "layers = [layer0, layer1, layer2, layer3]"
     ],
     "language": "python",
     "metadata": {},
     "outputs": [],
     "prompt_number": 10
    },
    {
     "cell_type": "code",
     "collapsed": false,
     "input": [
      "params = []\n",
      "hist_grads = []\n",
      "\n",
      "for layer in layers:\n",
      "    params += layer.params\n",
      "    hist_grads += layer.hist_grads"
     ],
     "language": "python",
     "metadata": {},
     "outputs": [],
     "prompt_number": 11
    },
    {
     "cell_type": "code",
     "collapsed": false,
     "input": [
      "cost = T.neg(layer3.log_likeli(y_batch))\n",
      "for layer in layers:\n",
      "    cost = cost + lam * layer.L2_sq\n",
      "\n",
      "grads = T.grad(cost, params)"
     ],
     "language": "python",
     "metadata": {},
     "outputs": [],
     "prompt_number": 12
    },
    {
     "cell_type": "code",
     "collapsed": false,
     "input": [
      "eta = T.scalar(name='eta')\n",
      "  \n",
      "eps = 1e-8\n",
      "\n",
      "updates = []\n",
      "for param_i, grad_i, hist_grad_i in zip(params, grads, hist_grads):\n",
      "    new_hist_grad_i = hist_grad_i + T.sqr(grad_i)\n",
      "    updates.append((hist_grad_i, new_hist_grad_i))\n",
      "    updates.append((param_i, param_i - eta / (eps + T.sqrt(new_hist_grad_i)) * grad_i))\n",
      "    \n",
      "update_f = theano.function(inputs=[eta, lam, delta], outputs=[layer3.output, cost], updates=updates)"
     ],
     "language": "python",
     "metadata": {},
     "outputs": [],
     "prompt_number": 13
    },
    {
     "cell_type": "code",
     "collapsed": false,
     "input": [
      "def _predict(X, y):\n",
      "    cost = 0\n",
      "    h = X\n",
      "    for layer in layers[:-1]:\n",
      "        h = h.dot(layer.W.get_value()) + layer.b.get_value()\n",
      "        h = np.maximum(h, 0)\n",
      "        cost += lam * (np.sum(layer.W.get_value()**2) + np.sum(layer.b.get_value()**2))\n",
      "    h = h.dot(layers[-1].W.get_value()) + layers[-1].b.get_value()\n",
      "    pred = 1. / (1 + np.exp(-h))\n",
      "    cost += -np.mean(y * np.log(pred) + (1 - y) * np.log(1 - pred))\n",
      "    return pred, cost"
     ],
     "language": "python",
     "metadata": {},
     "outputs": [],
     "prompt_number": 14
    },
    {
     "cell_type": "code",
     "collapsed": false,
     "input": [
      "cost_train = []\n",
      "cost_test = []\n",
      "acc_train = []\n",
      "acc_test = []"
     ],
     "language": "python",
     "metadata": {},
     "outputs": [],
     "prompt_number": 15
    },
    {
     "cell_type": "code",
     "collapsed": false,
     "input": [
      "eta = .01\n",
      "lam = 0\n",
      "delta = 0.5"
     ],
     "language": "python",
     "metadata": {},
     "outputs": [],
     "prompt_number": 16
    },
    {
     "cell_type": "code",
     "collapsed": false,
     "input": [
      "nepochs = 30\n",
      "print 'epoch\\tcost.train\\tcost.test\\ttrain.acc\\ttest.acc'\n",
      "sys.stdout.flush()\n",
      "\n",
      "for epoch in xrange(nepochs):\n",
      "    cost_batch = []\n",
      "    acc_batch = []\n",
      "    # Execute stochastic gradient updates\n",
      "    for i in xrange(0, n_samples, batch_size):\n",
      "        inds = np.arange(i, min(i + batch_size, n_samples), dtype=int)\n",
      "        X_batch.set_value(X_train[inds].astype(tf))\n",
      "        y_batch.set_value(y_train[inds].astype(np.int32))\n",
      "        pred, cost = update_f(eta, lam, delta)\n",
      "        cost_batch.append(cost)\n",
      "        acc_batch.append(np.mean((pred > .5) == y_train[inds]))\n",
      "\n",
      "    cost_train.append(np.mean(cost_batch))\n",
      "    acc_train.append(np.mean(acc_batch))\n",
      "    \n",
      "    pred_test, cost = _predict(X_test, y_test)\n",
      "    cost_test.append(cost)\n",
      "    acc_test.append(np.mean((pred_test > .5) == y_test))\n",
      "            \n",
      "    print('%d\\t%.3e\\t%.3e\\t%.3e\\t%.3e' % (epoch, cost_train[-1], cost_test[-1], acc_train[-1], acc_test[-1]))\n",
      "    sys.stdout.flush()"
     ],
     "language": "python",
     "metadata": {},
     "outputs": [
      {
       "output_type": "stream",
       "stream": "stdout",
       "text": [
        "epoch\tcost.train\tcost.test\ttrain.acc\ttest.acc\n"
       ]
      },
      {
       "output_type": "stream",
       "stream": "stdout",
       "text": [
        "0\t5.652e-02\t1.373e-01\t9.887e-01\t9.553e-01\n"
       ]
      },
      {
       "output_type": "stream",
       "stream": "stdout",
       "text": [
        "1\t5.653e-02\t1.373e-01\t9.887e-01\t9.553e-01\n"
       ]
      },
      {
       "output_type": "stream",
       "stream": "stdout",
       "text": [
        "2\t5.653e-02\t1.371e-01\t9.887e-01\t9.553e-01\n"
       ]
      },
      {
       "output_type": "stream",
       "stream": "stdout",
       "text": [
        "3\t5.650e-02\t1.372e-01\t9.887e-01\t9.553e-01\n"
       ]
      },
      {
       "output_type": "stream",
       "stream": "stdout",
       "text": [
        "4\t5.647e-02\t1.371e-01\t9.887e-01\t9.553e-01\n"
       ]
      },
      {
       "output_type": "stream",
       "stream": "stdout",
       "text": [
        "5\t5.648e-02\t1.371e-01\t9.887e-01\t9.553e-01\n"
       ]
      },
      {
       "output_type": "stream",
       "stream": "stdout",
       "text": [
        "6\t5.646e-02\t1.372e-01\t9.887e-01\t9.553e-01\n"
       ]
      },
      {
       "output_type": "stream",
       "stream": "stdout",
       "text": [
        "7\t5.645e-02\t1.371e-01\t9.887e-01\t9.553e-01\n"
       ]
      },
      {
       "output_type": "stream",
       "stream": "stdout",
       "text": [
        "8\t5.642e-02\t1.370e-01\t9.887e-01\t9.553e-01\n"
       ]
      },
      {
       "output_type": "stream",
       "stream": "stdout",
       "text": [
        "9\t5.643e-02\t1.368e-01\t9.887e-01\t9.553e-01\n"
       ]
      },
      {
       "output_type": "stream",
       "stream": "stdout",
       "text": [
        "10\t5.642e-02\t1.369e-01\t9.887e-01\t9.553e-01\n"
       ]
      },
      {
       "output_type": "stream",
       "stream": "stdout",
       "text": [
        "11\t5.639e-02\t1.372e-01\t9.887e-01\t9.553e-01\n"
       ]
      },
      {
       "output_type": "stream",
       "stream": "stdout",
       "text": [
        "12\t5.639e-02\t1.369e-01\t9.887e-01\t9.553e-01\n"
       ]
      },
      {
       "output_type": "stream",
       "stream": "stdout",
       "text": [
        "13\t5.639e-02\t1.368e-01\t9.887e-01\t9.554e-01\n"
       ]
      },
      {
       "output_type": "stream",
       "stream": "stdout",
       "text": [
        "14\t5.638e-02\t1.364e-01\t9.887e-01\t9.554e-01\n"
       ]
      },
      {
       "output_type": "stream",
       "stream": "stdout",
       "text": [
        "15\t5.634e-02\t1.369e-01\t9.887e-01\t9.554e-01\n"
       ]
      },
      {
       "output_type": "stream",
       "stream": "stdout",
       "text": [
        "16\t5.631e-02\t1.367e-01\t9.887e-01\t9.554e-01\n"
       ]
      },
      {
       "output_type": "stream",
       "stream": "stdout",
       "text": [
        "17\t5.633e-02\t1.368e-01\t9.887e-01\t9.554e-01\n"
       ]
      },
      {
       "output_type": "stream",
       "stream": "stdout",
       "text": [
        "18\t5.629e-02\t1.364e-01\t9.887e-01\t9.554e-01\n"
       ]
      }
     ]
    },
    {
     "cell_type": "code",
     "collapsed": false,
     "input": [
      "plt.plot(acc_train)\n",
      "plt.plot(acc_test)"
     ],
     "language": "python",
     "metadata": {},
     "outputs": [
      {
       "metadata": {},
       "output_type": "pyout",
       "prompt_number": 33,
       "text": [
        "[<matplotlib.lines.Line2D at 0x9730e50>]"
       ]
      },
      {
       "metadata": {},
       "output_type": "display_data",
       "png": "[encoded data removed]",
       "text": [
        "<matplotlib.figure.Figure at 0x9725350>"
       ]
      }
     ],
     "prompt_number": 33
    },
    {
     "cell_type": "heading",
     "level": 1,
     "metadata": {},
     "source": [
      "Evaluation"
     ]
    },
    {
     "cell_type": "code",
     "collapsed": false,
     "input": [
      "# compute evaluation metrics\n",
      "def construct_pred_mask(tags_predicted, predictat):\n",
      "    n_samples, n_tags = tags_predicted.shape\n",
      "    rankings = np.argsort(-tags_predicted, axis=1)[:, :predictat]\n",
      "    tags_predicted_binary = np.zeros_like(tags_predicted, dtype=bool)\n",
      "    for i in xrange(n_samples):\n",
      "        tags_predicted_binary[i, rankings[i]] = 1\n",
      "    return tags_predicted_binary\n",
      "\n",
      "def per_tag_prec_recall(tags_predicted_binary, tags_true_binary):\n",
      "    mask = np.logical_and(tags_predicted_binary, tags_true_binary)\n",
      "    prec = mask.sum(axis=0) / (tags_predicted_binary.sum(axis=0) + np.spacing(1))\n",
      "    tags_true_count = tags_true_binary.sum(axis=0).astype(float)\n",
      "    idx = (tags_true_count > 0)\n",
      "    recall = mask.sum(axis=0)[idx] / tags_true_count[idx]\n",
      "    return prec, recall\n",
      "\n",
      "\n",
      "def aroc_ap(tags_true_binary, tags_predicted):\n",
      "    n_tags = tags_true_binary.shape[1]\n",
      "    \n",
      "    auc = list()\n",
      "    aprec = list()\n",
      "    for i in xrange(n_tags):\n",
      "        if np.sum(tags_true_binary[:, i]) != 0:\n",
      "            auc.append(roc_auc_score(tags_true_binary[:, i], tags_predicted[:, i]))\n",
      "            aprec.append(average_precision_score(tags_true_binary[:, i], tags_predicted[:, i]))\n",
      "    return auc, aprec\n",
      "\n",
      "\n",
      "def print_out_metrics(tags_true_binary, tags_predicted, predictat):\n",
      "    tags_predicted_binary = construct_pred_mask(tags_predicted, predictat)\n",
      "    prec, recall = per_tag_prec_recall(tags_predicted_binary, tags_true_binary)\n",
      "    mprec, mrecall = np.mean(prec), np.mean(recall)\n",
      "    \n",
      "    print 'Precision = %.3f (%.3f)' % (mprec, np.std(prec) / sqrt(prec.size))\n",
      "    print 'Recall = %.3f (%.3f)' % (mrecall, np.std(recall) / sqrt(recall.size))\n",
      "    print 'F-score = %.3f' % (2 * mprec * mrecall / (mprec + mrecall))\n",
      "\n",
      "    auc, aprec = aroc_ap(tags_true_binary, tags_predicted)\n",
      "    print 'AROC = %.3f (%.3f)' % (np.mean(auc), np.std(auc) / sqrt(len(auc)))\n",
      "    print 'AP = %.3f (%.3f)' % (np.mean(aprec), np.std(aprec) / sqrt(len(aprec)))"
     ],
     "language": "python",
     "metadata": {},
     "outputs": [],
     "prompt_number": 34
    },
    {
     "cell_type": "code",
     "collapsed": false,
     "input": [
      "tags_predicted = pred_test\n",
      "print tags_predicted.min(), tags_predicted.max()\n",
      "\n",
      "div_factor = 1.25\n",
      "tags_predicted = tags_predicted - div_factor * np.mean(tags_predicted, axis=0)"
     ],
     "language": "python",
     "metadata": {},
     "outputs": [
      {
       "output_type": "stream",
       "stream": "stdout",
       "text": [
        "5.64468e-11 0.905848\n"
       ]
      }
     ],
     "prompt_number": 35
    },
    {
     "cell_type": "code",
     "collapsed": false,
     "input": [
      "predictat = 20\n",
      "tags_true_binary = (y_test > 0)\n",
      "\n",
      "print_out_metrics(tags_true_binary, tags_predicted, predictat)"
     ],
     "language": "python",
     "metadata": {},
     "outputs": [
      {
       "output_type": "stream",
       "stream": "stdout",
       "text": [
        "Precision = 0.192 (0.009)\n",
        "Recall = 0.213 (0.009)\n",
        "F-score = 0.202\n",
        "AROC = 0.791 (0.005)"
       ]
      },
      {
       "output_type": "stream",
       "stream": "stdout",
       "text": [
        "\n",
        "AP = 0.184 (0.008)\n"
       ]
      }
     ],
     "prompt_number": 36
    },
    {
     "cell_type": "code",
     "collapsed": false,
     "input": [],
     "language": "python",
     "metadata": {},
     "outputs": []
    }
   ],
   "metadata": {}
  }
 ]
}